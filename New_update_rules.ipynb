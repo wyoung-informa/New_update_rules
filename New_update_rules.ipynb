{
 "cells": [
  {
   "cell_type": "code",
   "execution_count": null,
   "metadata": {},
   "outputs": [],
   "source": [
    "import psycopg2 as p\n",
    "from datetime import datetime"
   ]
  },
  {
   "cell_type": "code",
   "execution_count": null,
   "metadata": {},
   "outputs": [],
   "source": [
    "# Name differentiation for review for fleets with 50 or more\n",
    "# 12/17/2019 loop back to determine simpler way to compare first five letters of name\n",
    "cur.execute(\"\"\"\n",
    "insert into mcmis_review\n",
    "select *\n",
    "from mcmis as m\n",
    "join (select \n",
    "        fs.usdot, \n",
    "        m.census_num,\n",
    "        fs.total_vehicles\n",
    "      from fleetseek.fleet as fs\n",
    "      join mcmis as m\n",
    "      on fs.usdot = m.census_num \n",
    "      where upper(left(replace(replace(replace(replace(fs.company_name, '.', ''), '&', ''), '-', ''), ' ', ''), 5)) != upper(left(replace(replace(replace(m.name, '-', ''), '&', ''), ' ', ''), 5)) and \n",
    "      fs.total_vehicles > 49 and \n",
    "      fs.active_flag = 'Y'\n",
    "      ) as sub_q\n",
    "on m.census_num = sub_q.census_num\n",
    "on conflict (mcmis_id) do nothing;\n",
    "\n",
    "update mcmis_review\n",
    "set review_reason = 'Company-Name'\n",
    "where review_reason is null; \n",
    "\"\"\")"
   ]
  },
  {
   "cell_type": "markdown",
   "metadata": {},
   "source": [
    "# All changes for fleets between 1 and 19 vehicles"
   ]
  },
  {
   "cell_type": "markdown",
   "metadata": {},
   "source": [
    "### Fleet size changes for fleets between 1 and 19 vehicles\n",
    "\n",
    "#### This needs to be the last update that happens"
   ]
  },
  {
   "cell_type": "code",
   "execution_count": null,
   "metadata": {},
   "outputs": [],
   "source": [
    "#For any new updates on the Fleet table the suppress_redundant_updates_trigger will make sure that new n\n",
    "cur.execute(\"\"\"\n",
    "update fleetseek.fleet\n",
    "set \n",
    "    trucks_owned = sub_q.owntruck,\n",
    "    tractors_owned = sub_q.owntract,\n",
    "    trailers_owned = sub_q.trailers_owned,\n",
    "    trucks_leased = sub_q.trucks_leased,\n",
    "    tractors_leased = sub_q.tractors_leased,\n",
    "    trailers_leased = sub_q.trailers_leased,\n",
    "    total_trucks = sub_q.total_trucks,\n",
    "    total_tractors = sub_q.total_tractors,\n",
    "    total_trailers = sub_q.total_trailers,\n",
    "    total_vehicles = sub_q.total_vehicles,\n",
    "    total_vehicles_owned = sub_q.total_vehicles_owned,\n",
    "    total_vehicles_leased = sub_q.total_vehicles_leased\n",
    "\n",
    "from fleetseek.fleet as fs\n",
    "join \n",
    "    (select \n",
    "        owntruck, \n",
    "        owntract, \n",
    "        owntrail,\n",
    "        sum(trptruck+trmtruck) as trucks_leased,\n",
    "        sum(trptract+trmtract) as tractors_leased,\n",
    "        sum(trptrail+trmtrail) as trailers_leased,\n",
    "        sum(owntruck+trptruck+trmtruck) as total_trucks, \n",
    "        sum(owntract+trmtract+trptract) as total_tractors,\n",
    "        sum(owntrail+trmtrail+trptrail) as total_trailers,\n",
    "        sum(owntruck+trptruck+trmtruck+owntract+trptract+trmtract) as total_vehicles,\n",
    "        sum(owntruck+owntract) as total_vehicles_owned, \n",
    "        sum(trmtruck+trptruck+trmtract+trptract) as total_vehicles_leased,\n",
    "        mcs150_date,\n",
    "        census_num\n",
    "     from mcmis\n",
    "     group by owntruck, owntract, owntrail, mcs150_date, census_num\n",
    "    ) as sub_q\n",
    "\n",
    "on fs.usdot = sub_q.census_num \n",
    "where fs.update_date < sub_q.mcs150_date and\n",
    "fs.active_flag = 'Y' and\n",
    "fs.total_vehicles between 1 and 19)\n",
    "\"\"\")\n",
    "conn.commit()"
   ]
  },
  {
   "cell_type": "markdown",
   "metadata": {},
   "source": [
    "## Drivers and mileage update"
   ]
  },
  {
   "cell_type": "code",
   "execution_count": null,
   "metadata": {},
   "outputs": [],
   "source": [
    "cur.execute(\"\"\"\n",
    "update fleetseek.fleet\n",
    "set \n",
    "    year_mileage =  m.mcs150mileageyear,\n",
    "    vehicle_miles = m.mlg150,\n",
    "    drivers = m.tot_drs,\n",
    "    cdl_drivers = m.cdl_drs,\n",
    "from mcmis as m\n",
    "join fleetseek.fleet as fs\n",
    "on m.census_num = fs.usdot\n",
    "where fs.update_date < m.mcs150_date and\n",
    "fs.total_vehicles between 1 and 19\n",
    "\"\"\")\n",
    "conn.commit()"
   ]
  },
  {
   "cell_type": "markdown",
   "metadata": {},
   "source": [
    "## GVW Weight Class 8 update"
   ]
  },
  {
   "cell_type": "code",
   "execution_count": null,
   "metadata": {},
   "outputs": [],
   "source": [
    "cur.execute(\"\"\"\n",
    "update fleetseek.fleet\n",
    "set \n",
    "    gvw_class_8 = 'Y'\n",
    "from fleetseek.fleet as fs\n",
    "join (select \n",
    "        census_num, owntract, trmtract, trptract, mcs150_date\n",
    "      from mcmis\n",
    "      group by census_num, owntract, trmtract, trptract, mcs150_date\n",
    "      having sum(owntract+trmtract+trptract) >= 1\n",
    "     ) as sub_q\n",
    "\n",
    "on fs.usdot = sub_q.census_num\n",
    "where fs.update_date < sub_q.mcs150_date and\n",
    "fs.total_vehicles between 1 and 19 and \n",
    "fs.gvw_class_8 != 'Y'\n",
    "\"\"\")\n",
    "conn.commit()"
   ]
  },
  {
   "cell_type": "markdown",
   "metadata": {},
   "source": [
    "## Fleet trailer type "
   ]
  },
  {
   "cell_type": "code",
   "execution_count": null,
   "metadata": {},
   "outputs": [],
   "source": [
    "# Changes to the utility types but not for fleets with a hazmat indicator\n",
    "\n",
    "cur.execute(\"\"\"\n",
    "update fleetseek.fleet_trailer_type\n",
    "set trailer_type_id = 142\n",
    "from fleetseek.fleet_trailer_type as ftt\n",
    "join fleetseek.fleet as fs\n",
    "on ftt.fleet_id = fs.fleet_id\n",
    "join (select \n",
    "      m.census_num, m.owntract, m.trmtract, m.trptract, m.owntrail, m.trmtrail, m.trptrail, m.mcs150_date\n",
    "      from mcmis as m\n",
    "      group by m.census_num, m.owntract, m.trmtract, m.trptract, m.owntrail, m.trmtrail, m.trptrail, m.mcs150_date\n",
    "      having (sum(owntract+trmtract+trptract) = 0 and sum(owntrail+trmtrail+trptrail) > 0) \n",
    "     limit 5) as sub_q\n",
    "on fs.usdot = sub_q.census_num\n",
    "where fs.update_date < sub_q.mcs150_date and\n",
    "fs.total_vehicles between 1 and 19 and\n",
    "fs.dot_hmind != 'Y'\n",
    "\"\"\")\n",
    "conn.commit()"
   ]
  },
  {
   "cell_type": "markdown",
   "metadata": {},
   "source": [
    "## Private Fleet deactivation"
   ]
  },
  {
   "cell_type": "code",
   "execution_count": null,
   "metadata": {},
   "outputs": [],
   "source": [
    "#For PFD companies that fall below a certain threshold of vehicles\n",
    "cur.execute(\"\"\"\n",
    "update fleetseek.fleet\n",
    "set active_flag = 'N'\n",
    "from fleetseek.fleet as fs\n",
    "where \n",
    "    fs.product_code = 'PFD' and\n",
    "    fs.total_tractors = 1 and\n",
    "    fs.total_trailers = 0 and\n",
    "    fs.total_trucks <= 1 and \n",
    "    fs.total_vehicles <= 1 and\n",
    "    fs.active_flag = 'Y'\n",
    "\"\"\")\n",
    "conn.commit()"
   ]
  },
  {
   "cell_type": "markdown",
   "metadata": {},
   "source": [
    "## For-Hire to OO\n",
    "\n",
    "#### Automatic update"
   ]
  },
  {
   "cell_type": "code",
   "execution_count": null,
   "metadata": {},
   "outputs": [],
   "source": [
    "#This query will happen after all the deactivations and fleet size changes\n",
    "\n",
    "cur.execute(\"\"\"\n",
    "update fleetseek.fleet as a\n",
    "set \n",
    "    product_code = 'OOD',\n",
    "    fleet_type_id = 105,\n",
    "    sic_code = 4218\n",
    "from fleetseek.fleet as fs\n",
    "join (\n",
    "    select \n",
    "        product_code, fleet_type_id, sic_code, total_vehicles, total_tractors, total_trailers, total_trucks, fleet_id\n",
    "    from fleetseek.fleet\n",
    "    where total_tractors <= 1 and\n",
    "    total_trailers <= 1 and\n",
    "    total_vehicles <= 1 and\n",
    "    total_trucks = 0 and\n",
    "    product_code not in  ('OOD', 'MMC', 'PFD') and\n",
    "    active_flag = 'Y'\n",
    "    ) as sub_q\n",
    "on fs.fleet_id = sub_q.fleet_id\n",
    "where a.product_code != 'OOD'\n",
    "\"\"\")\n",
    "conn.commit()"
   ]
  },
  {
   "cell_type": "markdown",
   "metadata": {},
   "source": [
    "## OO Deactivation\n",
    "\n",
    "#### Automatic update"
   ]
  },
  {
   "cell_type": "code",
   "execution_count": null,
   "metadata": {},
   "outputs": [],
   "source": [
    "#Based on missing census_num in MCMIS\n",
    "cur.execute(\"\"\"\n",
    "update fleetseek.fleet\n",
    "set active_flag = 'N'\n",
    "from fleetseek.fleet as fs\n",
    "left join mcmis as m\n",
    "on fs.usdot = m.census_num\n",
    "where m.census_num is null and\n",
    "fs.active_flag = 'Y' and \n",
    "fs.product_code = 'OOD'\n",
    "\"\"\")\n",
    "conn.commit()"
   ]
  },
  {
   "cell_type": "markdown",
   "metadata": {},
   "source": [
    "## Deactivating For-Hire\n",
    "\n",
    "#### Automatic update"
   ]
  },
  {
   "cell_type": "code",
   "execution_count": null,
   "metadata": {},
   "outputs": [],
   "source": [
    "#For fleets between 1-24 power units based on missing census_num in MCMIS\n",
    "cur.execute(\"\"\"\n",
    "update fleetseek.fleet\n",
    "set active_flag = 'N'\n",
    "from fleetseek.fleet as fs\n",
    "left join mcmis as m\n",
    "on fs.usdot = m.census_num\n",
    "where \n",
    "    m.census_num is null and\n",
    "    fs.active_flag = 'Y' and \n",
    "    fs.product_code = 'NMC' and\n",
    "    fs.total_tractors between 1 and 24 and\n",
    "    fs.usdot != 0\n",
    "\"\"\")\n",
    "conn.commit()"
   ]
  },
  {
   "cell_type": "markdown",
   "metadata": {},
   "source": [
    "## MCMIS review For-Hire\n",
    "\n",
    "#### Manual review"
   ]
  },
  {
   "cell_type": "code",
   "execution_count": null,
   "metadata": {},
   "outputs": [],
   "source": [
    "#For-Hire fleets with 25+ power units and a missing DOT number in the MCMIS file will be reviewed by an analyst\n",
    "#This will have to be a query that exports to sharepoint to be reviewed by an analyst\n",
    "cur.execute(\"\"\"\n",
    "select \n",
    "    case when (fs.total_tractors >= 25 AND m.mcs150_date > now() - interval '30 months' and fs.product_code = 'NMC') then 'Exceeds MCS-150 Threshold'\n",
    "\n",
    "\n",
    "select *\n",
    "from fleetseek.fleet as fs\n",
    "left join mcmis as m\n",
    "on fs.usdot = m.census_num\n",
    "where \n",
    "    m.census_num is null and\n",
    "    fs.total_tractors >= 25 and\n",
    "    fs.product_code = 'NMC'\n",
    "\"\"\")"
   ]
  },
  {
   "cell_type": "markdown",
   "metadata": {},
   "source": [
    "# 12/31/2019 review\n",
    "\n",
    "#### Deactivations by analyst"
   ]
  },
  {
   "cell_type": "code",
   "execution_count": 1,
   "metadata": {},
   "outputs": [],
   "source": [
    "import psycopg2 as p\n",
    "from datetime import datetime\n",
    "password = '********'\n",
    "\n",
    "conn = p.connect(database = 'postgres', user = 'postgres', password = password, \n",
    "                       host = 'localhost', port = 5433)\n",
    "\n",
    "cur = conn.cursor()"
   ]
  },
  {
   "cell_type": "code",
   "execution_count": 6,
   "metadata": {},
   "outputs": [],
   "source": [
    "#For DOT's missing and for MCS-150 dates over thresholds\n",
    "#Greater than 24 power units\n",
    "password = 'Evergreen1'\n",
    "\n",
    "conn = p.connect(database = 'postgres', user = 'postgres', password = password, \n",
    "                       host = 'localhost', port = 5433)\n",
    "cur = conn.cursor()\n",
    "\n",
    "# dd/mm/YY H:M:S\n",
    "dt_string = datetime.now().strftime(\"%Y_%m_%d %H_%M_%S\")\n",
    "\n",
    "\n",
    "#New query as of 1/3/2020\n",
    "query = \"\"\"select *\n",
    "\n",
    "from ( \n",
    "    select \n",
    "        fs.fleet_id, fs.product_code, fs.company_name, fs.website, fs.year_established, fs.revenue, fs.mcn, fs.usdot, fs.scac, fs.company_type_code, \n",
    "        fs.fleet_type_id, fs.safety_rating_type_id, fs.onsite_maintenance, fs.tl_ltl, fs.trucks_owned, fs.trucks_leased, \n",
    "        fs.tractors_owned, fs.tractors_leased, fs.trailers_owned, fs.trailers_leased, fs.gvw_class_12, fs.gvw_class_345, fs.gvw_class_6, fs.gvw_class_7,\n",
    "        fs.gvw_class_8, fs.sic_code, fs.insurance_info_flag, fs.update_date, fs.active_flag, fs.calculated_revenue, fs.haz_trailers_owned, fs.haz_trailers_leased,\n",
    "        fs.haz_trucks_owned, fs.haz_trucks_leased, fs.vehicle_miles, fs.drivers, fs.cdl_drivers, fs.average_miles, fs.gallonmin, fs.gallonmax, \n",
    "        fs.dot_hmind, fs.total_trucks, fs.total_tractors, fs.total_trailers, fs.total_vehicles, fs.total_vehicles_owned, fs.total_vehicles_leased,\n",
    "        fs.last_called_date, fs.note as fs_note, ct.description as company_type_name, ct.type as company_type, ft.name as fleet_type, \n",
    "        case when pn1.phone_type_id = 1 then pn1.phone_number else null end as phone_number, case when pn2.phone_type_id = 2 then pn2.phone_number else null end as tf_number,\n",
    "        case when pn3.phone_type_id = 3 then pn3.phone_number else null end as fax_number, l1.address1 as phy_address1, l1.address2 as phy_address2, l1.address3 as phy_address3,\n",
    "        l1.city as phy_city, l1.county_fips as phy_county_fips, l1.state_code as phy_state_code, l1.zip_code as phy_zip_code, l1.country_code as phy_country_code,\n",
    "        l1.latitude as phy_latitude, l1.longitude as phy_longitude, l2.address1 as mai_address1, l2.address2 as mai_address2, l2.address3 as mai_address3,\n",
    "        l2.city as mai_city, l2.county_fips as mai_county_fips, l2.state_code as mai_state_code, l2.zip_code as mai_zip_code, l2.country_code as mai_country_code,\n",
    "        l2.latitude as mai_latitude, l2.longitude as mai_longitude, '' as commodities, '' as trailer_types, fs.create_date, m.mcmis_id, m.act_stat, m.carship,\n",
    "        m.census_num, m.name, m.name_dba, m.dbnum, m.phy_natn, m.reg, m.phy_str, m.phy_city, m.phy_cnty, m.phy_st, m.phy_zip, m.undeliv_phy, \n",
    "        m.tel_num, m.fax_num, m.mai_natn, m.mai_str, m.mai_city, m.mai_cnty, m.mai_st, m.mai_zip, m.undeliv_mai, m.iccdocket1, m.icc1, m.class, \n",
    "        m.classdef, m.crrinter, m.crrhmintra, m.crrintra, m.shpinter, m.shpintra, m.genfreight, m.household, m.metalsheet, m.motorveh,\n",
    "        m.drivetow, m.logpole, m.bldgmat, m.mobilehome, m.machlrg, m.produce, m.oilfield, m.liqgas, m.intermodal, m.passengers, m.livestock,\n",
    "        m.grainfeed, m.coalcoke, m.meat, m.garbage, m.usmail, m.chem, m.drybulk, m.coldfood, m.beverages, m.paperprod, m.utility,\n",
    "        m.farmsupp, m.construct, m.waterwell, m.cargoothr, m.othercargo, m.hm_ind, m.owntruck, m.owntract, m.owntrail, m.trmtruck, \n",
    "        m.trmtract, m.trmtrail, m.trptruck, m.trptract, m.trptrail, m.tot_trucks, m.tot_pwr, m.interlt100, m.intergt100, m.inter_drs, m.intralt100,\n",
    "        m.intragt100, m.intra_drs, m.avg_tld, m.tot_drs, m.cdl_drs, m.mlg150, m.miletot, m.mcs150_date, m.email_address, m.company_rep1, m.company_rep2,\n",
    "\n",
    "        case \n",
    "            when (fs.total_tractors >= 25 AND m.mcs150_date < now() - interval '30 months' and fs.product_code = 'NMC' and fs.active_flag = 'Y' or \n",
    "            (fs.total_tractors >= 25 and m.mcs150_date < now() - interval '36 months' and fs.product_code = 'PFD' and fs.active_flag = 'Y')) then 'Exceeds MCS-150 Threshold'\n",
    "        end as mcmis_review_reason,\n",
    "        ' ' as note\n",
    "\n",
    "    from fleetseek.fleet as fs\n",
    "    join mcmis as m\n",
    "    on fs.usdot = m.census_num\n",
    "    join fleetseek.fleet_primary as fp\n",
    "    on fs.fleet_id = fp.fleet_id\n",
    "    left join fleetseek.phone_number as pn1\n",
    "    on fp.primary_phone_id = pn1.phone_number_id\n",
    "    left join fleetseek.phone_number as pn2\n",
    "    on fp.primary_toll_free_id = pn2.phone_number_id\n",
    "    left join fleetseek.phone_number as pn3\n",
    "    on fp.primary_fax_id = pn3.phone_number_id\n",
    "    left join fleetseek.location as l1\n",
    "    on fp.primary_physical_location_id = l1.location_id\n",
    "    left join fleetseek.location as l2 \n",
    "    on fp.primary_mailing_location_id = l2.location_id\n",
    "    left join fleetseek.company_type as ct\n",
    "    on fs.company_type_code = ct.company_type_code\n",
    "    left join fleetseek.fleet_type as ft\n",
    "    on fs.fleet_type_id = ft.fleet_type_id\n",
    "    ) as a\n",
    "\n",
    "where \n",
    "    a.usdot != 0 and  \n",
    "    a.mcmis_review_reason is not null and\n",
    "    a.active_flag = 'Y'\n",
    "\n",
    "\n",
    "\n",
    "union all\n",
    "\n",
    "\n",
    "\n",
    "select *\n",
    "from (\n",
    "    select \n",
    "        fs.fleet_id, fs.product_code, fs.company_name, fs.website, fs.year_established, fs.revenue, fs.mcn, fs.usdot, fs.scac, fs.company_type_code, \n",
    "        fs.fleet_type_id, fs.safety_rating_type_id, fs.onsite_maintenance, fs.tl_ltl, fs.trucks_owned, fs.trucks_leased, \n",
    "        fs.tractors_owned, fs.tractors_leased, fs.trailers_owned, fs.trailers_leased, fs.gvw_class_12, fs.gvw_class_345, fs.gvw_class_6, fs.gvw_class_7,\n",
    "        fs.gvw_class_8, fs.sic_code, fs.insurance_info_flag, fs.update_date, fs.active_flag, fs.calculated_revenue, fs.haz_trailers_owned, fs.haz_trailers_leased,\n",
    "        fs.haz_trucks_owned, fs.haz_trucks_leased, fs.vehicle_miles, fs.drivers, fs.cdl_drivers, fs.average_miles, fs.gallonmin, fs.gallonmax, \n",
    "        fs.dot_hmind, fs.total_trucks, fs.total_tractors, fs.total_trailers, fs.total_vehicles, fs.total_vehicles_owned, fs.total_vehicles_leased,\n",
    "        fs.last_called_date, fs.note as fs_note, ct.description as company_type_name, ct.type as company_type, ft.name as fleet_type, \n",
    "        case when pn1.phone_type_id = 1 then pn1.phone_number else null end as phone_number, case when pn2.phone_type_id = 2 then pn2.phone_number else null end as tf_number,\n",
    "        case when pn3.phone_type_id = 3 then pn3.phone_number else null end as fax_number, l1.address1 as phy_address1, l1.address2 as phy_address2, l1.address3 as phy_address3,\n",
    "        l1.city as phy_city, l1.county_fips as phy_county_fips, l1.state_code as phy_state_code, l1.zip_code as phy_zip_code, l1.country_code as phy_country_code,\n",
    "        l1.latitude as phy_latitude, l1.longitude as phy_longitude, l2.address1 as mai_address1, l2.address2 as mai_address2, l2.address3 as mai_address3,\n",
    "        l2.city as mai_city, l2.county_fips as mai_county_fips, l2.state_code as mai_state_code, l2.zip_code as mai_zip_code, l2.country_code as mai_country_code,\n",
    "        l2.latitude as mai_latitude, l2.longitude as mai_longitude, '' as commodities, '' as trailer_types, fs.create_date, m.mcmis_id, m.act_stat, m.carship,\n",
    "        m.census_num, m.name, m.name_dba, m.dbnum, m.phy_natn, m.reg, m.phy_str, m.phy_city, m.phy_cnty, m.phy_st, m.phy_zip, m.undeliv_phy, \n",
    "        m.tel_num, m.fax_num, m.mai_natn, m.mai_str, m.mai_city, m.mai_cnty, m.mai_st, m.mai_zip, m.undeliv_mai, m.iccdocket1, m.icc1, m.class, \n",
    "        m.classdef, m.crrinter, m.crrhmintra, m.crrintra, m.shpinter, m.shpintra, m.genfreight, m.household, m.metalsheet, m.motorveh,\n",
    "        m.drivetow, m.logpole, m.bldgmat, m.mobilehome, m.machlrg, m.produce, m.oilfield, m.liqgas, m.intermodal, m.passengers, m.livestock,\n",
    "        m.grainfeed, m.coalcoke, m.meat, m.garbage, m.usmail, m.chem, m.drybulk, m.coldfood, m.beverages, m.paperprod, m.utility,\n",
    "        m.farmsupp, m.construct, m.waterwell, m.cargoothr, m.othercargo, m.hm_ind, m.owntruck, m.owntract, m.owntrail, m.trmtruck, \n",
    "        m.trmtract, m.trmtrail, m.trptruck, m.trptract, m.trptrail, m.tot_trucks, m.tot_pwr, m.interlt100, m.intergt100, m.inter_drs, m.intralt100,\n",
    "        m.intragt100, m.intra_drs, m.avg_tld, m.tot_drs, m.cdl_drs, m.mlg150, m.miletot, m.mcs150_date, m.email_address, m.company_rep1, m.company_rep2,\n",
    "\n",
    "        case \n",
    "            when (m.census_num is null and fs.total_tractors >= 25 and fs.product_code = 'NMC') then 'Inactive DOT' end as mcmis_review_reason,\n",
    "        ' ' as note\n",
    "\n",
    "    from fleetseek.fleet as fs\n",
    "    join fleetseek.fleet_primary as fp\n",
    "    on fs.fleet_id = fp.fleet_id\n",
    "    left join fleetseek.phone_number as pn1\n",
    "    on fp.primary_phone_id = pn1.phone_number_id\n",
    "    left join fleetseek.phone_number as pn2\n",
    "    on fp.primary_toll_free_id = pn2.phone_number_id\n",
    "    left join fleetseek.phone_number as pn3\n",
    "    on fp.primary_fax_id = pn3.phone_number_id\n",
    "    left join fleetseek.location as l1\n",
    "    on fp.primary_physical_location_id = l1.location_id\n",
    "    left join fleetseek.location as l2 \n",
    "    on fp.primary_mailing_location_id = l2.location_id\n",
    "    left join fleetseek.company_type as ct\n",
    "    on fs.company_type_code = ct.company_type_code\n",
    "    left join fleetseek.fleet_type as ft\n",
    "    on fs.fleet_type_id = ft.fleet_type_id\n",
    "    left join mcmis as m\n",
    "    on fs.usdot = m.census_num\n",
    "    where m.census_num is null\n",
    "    ) as b\n",
    "where b.usdot != 0 and\n",
    "b.mcmis_review_reason is not null and\n",
    "b.active_flag = 'Y'\n",
    "\"\"\"\n",
    "\n",
    "#12/31/2019 query \n",
    "old_query = \"\"\"select *\n",
    "\n",
    "from ( select *,\n",
    "        case \n",
    "            when (fs.total_tractors >= 25 AND m.mcs150_date < now() - interval '30 months' and fs.product_code = 'NMC' and fs.active_flag = 'Y' or \n",
    "            (fs.total_tractors >= 25 and m.mcs150_date < now() - interval '36 months' and fs.product_code = 'PFD' and fs.active_flag = 'Y')) then 'Exceeds MCS-150 Threshold'\n",
    "            end as mcmis_review_reason,\n",
    "        '' as note\n",
    "        from fleetseek.fleet as fs\n",
    "        join mcmis as m\n",
    "        on fs.usdot = m.census_num) as a\n",
    "where \n",
    "     a.usdot != 0 and  \n",
    "     a.mcmis_review_reason is not null and\n",
    "     a.active_flag = 'Y'\n",
    "\n",
    "\n",
    "\n",
    "\n",
    "union all\n",
    "\n",
    "select *\n",
    "from (\n",
    "    select *,\n",
    "    case \n",
    "        when (m.census_num is null and fs.total_tractors >= 25 and fs.product_code = 'NMC') then 'Inactive DOT' end as mcmis_review_reason,\n",
    "    '' as note\n",
    "    from fleetseek.fleet as fs\n",
    "    left join mcmis as m\n",
    "    on fs.usdot = m.census_num\n",
    "    where m.census_num is null) as b\n",
    "where \n",
    "    b.usdot != 0 and\n",
    "    b.mcmis_review_reason is not null and\n",
    "    b.active_flag = 'Y'\n",
    "limit 50\n",
    "\"\"\"\n",
    "\n",
    "outputquery = \"COPY ({0}) TO STDOUT WITH CSV HEADER\".format(query)\n",
    "\n",
    "\n",
    "with open(r'\\\\informaplc.sharepoint.com@SSL\\DavWWWRoot\\sites\\GAATLFS1\\Shared Documents\\FleetSeek Atlanta\\ETL_updates\\Update_output\\Update_output' + dt_string + '.csv', 'w') as f:\n",
    "    cur.copy_expert(outputquery, f)\n",
    "    \n",
    "    \n",
    "    "
   ]
  },
  {
   "cell_type": "markdown",
   "metadata": {},
   "source": [
    "## OO Deactivation\n",
    "\n",
    "#### Automatic update"
   ]
  },
  {
   "cell_type": "code",
   "execution_count": null,
   "metadata": {},
   "outputs": [],
   "source": [
    "#OO deactivated if MCS150 date is over 30 months old\n",
    "cur.execute(\"\"\"\n",
    "update fleetseek.fleet\n",
    "set active_flag = 'N'\n",
    "select *\n",
    "from fleetseek.fleet as fs\n",
    "join mcmis as m\n",
    "on fs.usdot = m.census_num\n",
    "where \n",
    "    fs.active_flag = 'Y' and\n",
    "    m.mcs150_date < now() - interval '30 months' and\n",
    "    fs.product_code = 'OOD'\n",
    "\"\"\")\n",
    "conn.commit()"
   ]
  },
  {
   "cell_type": "markdown",
   "metadata": {},
   "source": [
    "## FH Deactivation\n",
    "\n",
    "#### Automatic update"
   ]
  },
  {
   "cell_type": "code",
   "execution_count": null,
   "metadata": {},
   "outputs": [],
   "source": [
    "# FH deactivated if MCS150 date is over 30 months old and power units between 1 and 24\n",
    "cur.execute(\"\"\"\n",
    "update fleetseek.fleet\n",
    "set active_flag = 'N'\n",
    "from fleetseek.fleet as fs\n",
    "join mcmis as m\n",
    "on fs.usdot = m.census_num\n",
    "where\n",
    "    fs.active_flag = 'Y' and\n",
    "    m.mcs150_date < now() - interval '30 months' and\n",
    "    fs.product_code = 'NMC' and\n",
    "    fs.total_tractors between 1 and 24\n",
    "\"\"\")"
   ]
  },
  {
   "cell_type": "markdown",
   "metadata": {},
   "source": [
    "## FH Deactivation\n",
    "\n",
    "#### Manual review"
   ]
  },
  {
   "cell_type": "code",
   "execution_count": null,
   "metadata": {},
   "outputs": [],
   "source": []
  },
  {
   "cell_type": "markdown",
   "metadata": {},
   "source": [
    "## OO Reinstate\n",
    "\n",
    "#### Automatic update"
   ]
  },
  {
   "cell_type": "code",
   "execution_count": null,
   "metadata": {},
   "outputs": [],
   "source": [
    "#12/19/2019 first pass. This process will likely need to be passed through Melissa data as well\n",
    "\n",
    "cur.execute(\"\"\"\n",
    "update fleetseek.fleet\n",
    "set \n",
    "    trucks_owned = sub_q.owntruck,\n",
    "    tractors_owned = sub_q.owntract,\n",
    "    trailers_owned = sub_q.owntrail,\n",
    "    trucks_leased = sub_q.trucks_leased,\n",
    "    tractors_leased = sub_q.tractors_leased,\n",
    "    trailers_leased = sub_q.trailers_leased,\n",
    "    total_trucks = sub_q.total_trucks,\n",
    "    total_tractors = sub_q.total_tractors,\n",
    "    total_trailers = sub_q.total_trailers,\n",
    "    total_vehicles = sub_q.total_vehicles,\n",
    "    total_vehicles_owned = sub_q.total_vehicles_owned,\n",
    "    total_vehicles_leased = sub_q.total_vehicles_leased,\n",
    "    dot_hmind = sub_q.hm_ind,\n",
    "    year_mileage = sub_q.mcs150mileageyear,\n",
    "    vehicle_miles = sub_q.mlg150,\n",
    "    drivers = sub_q.tot_drs,\n",
    "    cdl_drivers = sub_q.cdl_drivers,\n",
    "    active_flag = 'Y'\n",
    "from fleetseek.fleet as fs\n",
    "join \n",
    "(\n",
    "    select \n",
    "        census_num, name, owntruck, owntract, owntrail, sum(trptruck+trmtruck) as trucks_leased, sum(trptract+trmtract) as tractors_leased, \n",
    "        sum(trptrail+trmtrail) as trailers_leased, sum(owntruck+trptruck+trmtruck) as total_trucks, sum(owntract+trmtract+trptract) as total_tractors,\n",
    "        sum(owntrail+trmtrail+trptrail) as total_trailers, sum(owntruck+trptruck+trmtruck+owntract+trptract+trmtract) as total_vehicles,\n",
    "        sum(owntruck+owntract) as total_vehicles_owned, sum(trmtruck+trptruck+trmtract+trptract) as total_vehicles_leased, hm_ind, mcs150mileageyear, \n",
    "        mlg150, tot_drs, cdl_drs as cdl_drivers, mcs150_date, passengers, class, carship\n",
    "    from mcmis\n",
    "    group by census_num, name, owntruck, owntract, owntrail, hm_ind, mcs150mileageyear, mlg150, tot_drs, cdl_drs, mcs150_date, passengers, class, carship\n",
    ") as sub_q\n",
    "on fs.usdot = sub_q.census_num\n",
    "where\n",
    "    fs.active_flag = 'N' and\n",
    "    fs.update_date < sub_q.mcs150_date and\n",
    "    sub_q.total_trucks = 1 and \n",
    "    sub_q.total_tractors = 1 and\n",
    "    sub_q.total_trailers <= 1 and\n",
    "    sub_q.passengers is null and\n",
    "    (sub_q.class similar to 'A%|B%' or\n",
    "    sub_q.class = 'AB') and\n",
    "    sub_q.carship like 'C%' and\n",
    "    fs.product_code = 'OOD'\n",
    "\"\"\")\n",
    "conn.commit()"
   ]
  },
  {
   "cell_type": "markdown",
   "metadata": {},
   "source": [
    "# Exporting a SQL query with Python\n",
    "\n",
    "#### As of 12/31/2019 still need to export to SharePoint\n",
    "\n",
    "#### As of 1/3/2020 able to export to Sharepoint "
   ]
  },
  {
   "cell_type": "code",
   "execution_count": 15,
   "metadata": {},
   "outputs": [],
   "source": [
    "pd.options.display.max_rows = 4000"
   ]
  },
  {
   "cell_type": "code",
   "execution_count": 11,
   "metadata": {},
   "outputs": [
    {
     "name": "stdout",
     "output_type": "stream",
     "text": [
      "Index(['fleet_id', 'product_code', 'company_name', 'website',\n",
      "       'year_established', 'revenue', 'mcn', 'usdot', 'scac',\n",
      "       'company_type_code',\n",
      "       ...\n",
      "       'tot_drs', 'cdl_drs', 'mlg150', 'miletot', 'mcs150_date',\n",
      "       'email_address', 'company_rep1', 'company_rep2', 'mcmis_review_reason',\n",
      "       'note'],\n",
      "      dtype='object', length=171)\n"
     ]
    }
   ],
   "source": [
    "test = pd.read_csv(r'\\\\informaplc.sharepoint.com@SSL\\DavWWWRoot\\sites\\GAATLFS1\\Shared Documents\\FleetSeek Atlanta\\ETL_updates\\Update_output\\Update_output2020_01_06 16_18_13.csv')\n",
    "print(test.columns)"
   ]
  },
  {
   "cell_type": "code",
   "execution_count": 12,
   "metadata": {},
   "outputs": [],
   "source": [
    "columns = test.columns"
   ]
  },
  {
   "cell_type": "code",
   "execution_count": null,
   "metadata": {},
   "outputs": [],
   "source": [
    "test.info(verbose = True)"
   ]
  },
  {
   "cell_type": "code",
   "execution_count": 4,
   "metadata": {},
   "outputs": [],
   "source": [
    "# dd/mm/YY H:M:S\n",
    "dt_string = datetime.now().strftime(\"%Y_%m_%d %H_%M_%S\")"
   ]
  },
  {
   "cell_type": "code",
   "execution_count": 5,
   "metadata": {},
   "outputs": [
    {
     "name": "stdout",
     "output_type": "stream",
     "text": [
      "date and time = 2020_01_02 11_32_45\n"
     ]
    }
   ],
   "source": [
    "print(\"date and time =\", dt_string)"
   ]
  },
  {
   "cell_type": "code",
   "execution_count": 29,
   "metadata": {},
   "outputs": [],
   "source": [
    "import fnmatch"
   ]
  },
  {
   "cell_type": "code",
   "execution_count": 31,
   "metadata": {},
   "outputs": [],
   "source": [
    "file_list = fnmatch.filter(os.listdir(r'C:\\Users\\YoungW\\OneDrive - Informa plc\\Documents\\Google Analytics API project'), 'pageViews*.csv')"
   ]
  },
  {
   "cell_type": "code",
   "execution_count": 39,
   "metadata": {},
   "outputs": [
    {
     "name": "stdout",
     "output_type": "stream",
     "text": [
      "['C:\\\\Users\\\\YoungW\\\\OneDrive - Informa plc\\\\Documents\\\\Google Analytics API project\\\\2016-2019_data_JW_Final.csv', \"C:\\\\Users\\\\YoungW\\\\OneDrive - Informa plc\\\\Documents\\\\Google Analytics API project\\\\pageViews January '16 - December '16.csv\", \"C:\\\\Users\\\\YoungW\\\\OneDrive - Informa plc\\\\Documents\\\\Google Analytics API project\\\\pageViews January '17 - December '17.csv\", \"C:\\\\Users\\\\YoungW\\\\OneDrive - Informa plc\\\\Documents\\\\Google Analytics API project\\\\pageViews January '18 - December '18.csv\", \"C:\\\\Users\\\\YoungW\\\\OneDrive - Informa plc\\\\Documents\\\\Google Analytics API project\\\\pageViews January '19 - November '19.csv\", \"C:\\\\Users\\\\YoungW\\\\OneDrive - Informa plc\\\\Documents\\\\Google Analytics API project\\\\sessions January '16 - November '19.csv\"]\n",
      "C:\\Users\\YoungW\\OneDrive - Informa plc\\Documents\\Google Analytics API project\\pageViews January '16 - December '16.csv\n"
     ]
    }
   ],
   "source": [
    "import glob\n",
    "import os\n",
    "\n",
    "list_of_files = glob.glob(r'C:\\Users\\YoungW\\OneDrive - Informa plc\\Documents\\Google Analytics API project\\*.csv') # * means all if need specific format then *.csv\n",
    "oldest_file = min(list_of_files, key=os.path.getctime)\n",
    "print(latest_file)"
   ]
  },
  {
   "cell_type": "code",
   "execution_count": null,
   "metadata": {},
   "outputs": [],
   "source": [
    "with open(r'\\\\informaplc.sharepoint.com@SSL\\DavWWWRoot\\sites\\GAATLFS1\\Shared Documents\\FleetSeek Atlanta\\ETL_updates\\Update_output\\Update_output2020_01_02 11_32_45.txt', 'r+') as t:\n",
    "    t.readlines()"
   ]
  },
  {
   "cell_type": "code",
   "execution_count": 52,
   "metadata": {},
   "outputs": [
    {
     "data": {
      "text/plain": [
       "<_io.TextIOWrapper name='\\\\\\\\informaplc.sharepoint.com@SSL\\\\DavWWWRoot\\\\sites\\\\GAATLFS1\\\\Shared Documents\\\\FleetSeek Atlanta\\\\ETL_updates\\\\Update_output\\\\Update_output2020_01_02 11_32_45.txt' mode='r+' encoding='cp1252'>"
      ]
     },
     "execution_count": 52,
     "metadata": {},
     "output_type": "execute_result"
    }
   ],
   "source": [
    "t"
   ]
  },
  {
   "cell_type": "code",
   "execution_count": 12,
   "metadata": {},
   "outputs": [],
   "source": [
    "conn.close()"
   ]
  },
  {
   "cell_type": "code",
   "execution_count": null,
   "metadata": {},
   "outputs": [],
   "source": [
    "import sys\n",
    "\n",
    "#set up psycopg2 environment\n",
    "import psycopg2\n",
    "\n",
    "#driving_distance module\n",
    "#note the lack of trailing semi-colon in the query string, as per the Postgres documentation\n",
    "query = \"\"\"\n",
    "    select *\n",
    "    from driving_distance ($$\n",
    "        select\n",
    "            gid as id,\n",
    "            start_id::int4 as source,\n",
    "            end_id::int4 as target,\n",
    "            shape_leng::double precision as cost\n",
    "        from network\n",
    "        $$, %s, %s, %s, %s\n",
    "    )\n",
    "\"\"\"\n",
    "\n",
    "#make connection between python and postgresql\n",
    "conn = psycopg2.connect(\"dbname = 'routing_template' user = 'postgres' host = 'localhost' password = 'xxxx'\")\n",
    "cur = conn.cursor()\n",
    "\n",
    "outputquery = \"COPY ({0}) TO STDOUT WITH CSV HEADER\".format(query)\n",
    "\n",
    "with open('resultsfile', 'w') as f:\n",
    "    cur.copy_expert(outputquery, f)\n",
    "\n",
    "conn.close()"
   ]
  }
 ],
 "metadata": {
  "kernelspec": {
   "display_name": "Python 3",
   "language": "python",
   "name": "python3"
  },
  "language_info": {
   "codemirror_mode": {
    "name": "ipython",
    "version": 3
   },
   "file_extension": ".py",
   "mimetype": "text/x-python",
   "name": "python",
   "nbconvert_exporter": "python",
   "pygments_lexer": "ipython3",
   "version": "3.7.4"
  }
 },
 "nbformat": 4,
 "nbformat_minor": 4
}
